{
 "cells": [
  {
   "cell_type": "markdown",
   "metadata": {},
   "source": [
    "## Task 1\n",
    "## Importing the libraries"
   ]
  },
  {
   "cell_type": "code",
   "execution_count": 36,
   "metadata": {},
   "outputs": [],
   "source": [
    "import util_mnist_reader\n",
    "import matplotlib.pyplot as plt\n",
    "import numpy as np\n",
    "import tensorflow as tf\n",
    "from tensorflow import keras\n",
    "from keras import optimizers\n",
    "import sklearn.metrics as metrics\n",
    "from sklearn.model_selection import train_test_split"
   ]
  },
  {
   "cell_type": "markdown",
   "metadata": {},
   "source": [
    "## Splitting the data into validation and normalising"
   ]
  },
  {
   "cell_type": "code",
   "execution_count": 43,
   "metadata": {},
   "outputs": [],
   "source": [
    "X_train, Y_train = util_mnist_reader.load_mnist('../data/fashion', kind='train')\n",
    "X_test, Y_test = util_mnist_reader.load_mnist('../data/fashion', kind='t10k')\n",
    "\n",
    "X_train, X_val, Y_train, Y_val = train_test_split(X_train, Y_train, test_size=0.1, random_state=42)\n",
    "\n",
    "X_train=X_train/255.0\n",
    "X_test=X_test/255.0\n",
    "\n",
    "y_train = tf.keras.utils.to_categorical(Y_train, 10)\n",
    "y_test = tf.keras.utils.to_categorical(Y_test, 10)\n",
    "y_val = tf.keras.utils.to_categorical(Y_val, 10)\n",
    "\n",
    "# Set the hyperparameters\n",
    "m = 60000\n",
    "input_nodes = 784     #No. of neurons in first layer\n",
    "# n_h = 500   #No. of neurons in hidden layer\n",
    "hidden_nodes = 600\n",
    "output_nodes = 10     #No. of neurons in output layer\n",
    "epochs = 50\n",
    "learning_rate = 0.05"
   ]
  },
  {
   "cell_type": "markdown",
   "metadata": {},
   "source": [
    "### Activation function for hidden nodes"
   ]
  },
  {
   "cell_type": "code",
   "execution_count": 44,
   "metadata": {},
   "outputs": [],
   "source": [
    "def sigmoid(z):\n",
    "    return 1/(1 + np.exp(-z))"
   ]
  },
  {
   "cell_type": "markdown",
   "metadata": {},
   "source": [
    "### Activation function for output nodes"
   ]
  },
  {
   "cell_type": "code",
   "execution_count": 45,
   "metadata": {},
   "outputs": [],
   "source": [
    "def softmax(z):\n",
    "    a = np.exp(z - z.max(axis=0, keepdims=True))\n",
    "    return a / a.sum(axis = 0, keepdims=True)"
   ]
  },
  {
   "cell_type": "code",
   "execution_count": 46,
   "metadata": {},
   "outputs": [],
   "source": [
    "def calculate_cost(A2, Y):\n",
    "    cost = np.mean(-Y*(np.log(A2)))\n",
    "    return cost"
   ]
  },
  {
   "cell_type": "markdown",
   "metadata": {},
   "source": [
    "### This part contains the feedforward and back propagation\n",
    "##### The equations were refferd from online source medium.com"
   ]
  },
  {
   "cell_type": "code",
   "execution_count": 47,
   "metadata": {},
   "outputs": [],
   "source": [
    "def model(X, Y, input_nodes, hidden_nodes, output_nodes, epochs, learning_rate):\n",
    "#     parameters = initialize_parameters(n_x, n_h, n_y)\n",
    "    W1 = np.random.randn(hidden_nodes, input_nodes)\n",
    "    b1 = np.ones((hidden_nodes, 1))\n",
    "    W2 = np.random.randn(output_nodes, hidden_nodes)\n",
    "    b2 = np.ones((output_nodes, 1))\n",
    "    \n",
    "\n",
    "    \n",
    "    for i in range(0, epochs+1):\n",
    "#         a2, cache = forward_prop(X, parameters)\n",
    "        Z1 = np.dot(W1, X.T) + b1\n",
    "        A1 = sigmoid(Z1)\n",
    "        Z2 = np.dot(W2, A1) + b2\n",
    "        A2 = softmax(Z2)\n",
    "        loss = calculate_cost(A2, Y.T)\n",
    "        \n",
    "        training_loss.append(loss)        \n",
    "      \n",
    "        print(\"Training_Loss\",i,\" --- \",loss)\n",
    "        \n",
    "        y_pred_labels = np.argmax(A2.T, axis=1)\n",
    "        accuracy = metrics.accuracy_score(Y_train, y_pred_labels)\n",
    "        print(\"Training_accuracy\",i,\" --- \",accuracy)     \n",
    "        training_accuracy.append(accuracy)\n",
    "        \n",
    "        Z1_v = np.dot(W1, X_val.T) + b1\n",
    "        A1_v = sigmoid(Z1_v)\n",
    "        Z2_v = np.dot(W2, A1_v) + b2\n",
    "        A2_v = softmax(Z2_v)\n",
    "        val_loss = calculate_cost(A2_v, y_val.T)\n",
    "        print(\"validation_Loss\",i,\" --- \",val_loss)\n",
    "        validation_loss.append(val_loss)\n",
    "        \n",
    "        y_val_pred_labels = np.argmax(A2_v.T, axis=1)\n",
    "        val_accuracy = metrics.accuracy_score(Y_val, y_val_pred_labels)\n",
    "        print(\"Validation_accuracy\",i,\" --- \",val_accuracy)     \n",
    "        validation_accuracy.append(val_accuracy)\n",
    "        \n",
    "        \n",
    "        dZ2 = A2 - Y.T\n",
    "        dW2 = np.dot(dZ2, A1.T)/m\n",
    "        db2 = np.sum(dZ2, axis=1, keepdims=True)/m\n",
    "        \n",
    "        W2 = W2 - learning_rate*dW2\n",
    "        b2 = b2 - learning_rate*db2\n",
    "        \n",
    "        dZ1 = np.multiply(np.dot(W2.T, dZ2), 1-np.power(A1, 2))\n",
    "        dW1 = np.dot(dZ1, X)/m\n",
    "        db1 = np.sum(dZ1, axis=1, keepdims=True)/m\n",
    "        \n",
    "        W1 = W1 - learning_rate*dW1\n",
    "        b1 = b1 - learning_rate*db1\n",
    "\n",
    "        \n",
    "    return W1,b1,W2,b2"
   ]
  },
  {
   "cell_type": "code",
   "execution_count": 48,
   "metadata": {},
   "outputs": [
    {
     "name": "stdout",
     "output_type": "stream",
     "text": [
      "Training_Loss 0  ---  1.7064938204872255\n",
      "Training_accuracy 0  ---  0.1428148148148148\n"
     ]
    },
    {
     "name": "stderr",
     "output_type": "stream",
     "text": [
      "D:\\Anaconda\\lib\\site-packages\\ipykernel_launcher.py:2: RuntimeWarning: overflow encountered in exp\n",
      "  \n"
     ]
    },
    {
     "name": "stdout",
     "output_type": "stream",
     "text": [
      "validation_Loss 0  ---  1.7267631292241203\n",
      "Validation_accuracy 0  ---  0.13533333333333333\n",
      "Training_Loss 1  ---  1.3769452204576822\n",
      "Training_accuracy 1  ---  0.11846296296296296\n",
      "validation_Loss 1  ---  1.487824830148155\n",
      "Validation_accuracy 1  ---  0.112\n",
      "Training_Loss 2  ---  1.0997954495374782\n",
      "Training_accuracy 2  ---  0.16324074074074074\n",
      "validation_Loss 2  ---  1.2437234666226706\n",
      "Validation_accuracy 2  ---  0.14616666666666667\n",
      "Training_Loss 3  ---  0.9710885698062948\n",
      "Training_accuracy 3  ---  0.18453703703703703\n",
      "validation_Loss 3  ---  1.1433168062004724\n",
      "Validation_accuracy 3  ---  0.1645\n",
      "Training_Loss 4  ---  0.8721537592736328\n",
      "Training_accuracy 4  ---  0.19953703703703704\n",
      "validation_Loss 4  ---  1.065148725024469\n",
      "Validation_accuracy 4  ---  0.1765\n",
      "Training_Loss 5  ---  0.7945170462942519\n",
      "Training_accuracy 5  ---  0.2297962962962963\n",
      "validation_Loss 5  ---  0.9922439674724899\n",
      "Validation_accuracy 5  ---  0.19616666666666666\n",
      "Training_Loss 6  ---  0.7265598208155263\n",
      "Training_accuracy 6  ---  0.26051851851851854\n",
      "validation_Loss 6  ---  0.9319959131935213\n",
      "Validation_accuracy 6  ---  0.21666666666666667\n",
      "Training_Loss 7  ---  0.6706645674213036\n",
      "Training_accuracy 7  ---  0.28774074074074074\n",
      "validation_Loss 7  ---  0.8785021349663111\n",
      "Validation_accuracy 7  ---  0.233\n",
      "Training_Loss 8  ---  0.6226821301289974\n",
      "Training_accuracy 8  ---  0.31587037037037036\n",
      "validation_Loss 8  ---  0.8358033955823079\n",
      "Validation_accuracy 8  ---  0.251\n",
      "Training_Loss 9  ---  0.5813566842224481\n",
      "Training_accuracy 9  ---  0.3362037037037037\n",
      "validation_Loss 9  ---  0.7950743357944414\n",
      "Validation_accuracy 9  ---  0.265\n",
      "Training_Loss 10  ---  0.5473151941569255\n",
      "Training_accuracy 10  ---  0.36468518518518517\n",
      "validation_Loss 10  ---  0.7626968264253331\n",
      "Validation_accuracy 10  ---  0.2788333333333333\n",
      "Training_Loss 11  ---  0.5168107790257754\n",
      "Training_accuracy 11  ---  0.3770925925925926\n",
      "validation_Loss 11  ---  0.7325939704619904\n",
      "Validation_accuracy 11  ---  0.28583333333333333\n",
      "Training_Loss 12  ---  0.49303265568826843\n",
      "Training_accuracy 12  ---  0.4027962962962963\n",
      "validation_Loss 12  ---  0.7059057586745635\n",
      "Validation_accuracy 12  ---  0.304\n",
      "Training_Loss 13  ---  0.47041067810646187\n",
      "Training_accuracy 13  ---  0.41075925925925927\n",
      "validation_Loss 13  ---  0.6858935666217022\n",
      "Validation_accuracy 13  ---  0.3115\n",
      "Training_Loss 14  ---  0.4534230161004231\n",
      "Training_accuracy 14  ---  0.43437037037037035\n",
      "validation_Loss 14  ---  0.6609289912171266\n",
      "Validation_accuracy 14  ---  0.32616666666666666\n",
      "Training_Loss 15  ---  0.435991019595776\n",
      "Training_accuracy 15  ---  0.43925925925925924\n",
      "validation_Loss 15  ---  0.6464470413879766\n",
      "Validation_accuracy 15  ---  0.33316666666666667\n",
      "Training_Loss 16  ---  0.4232122125701766\n",
      "Training_accuracy 16  ---  0.4602222222222222\n",
      "validation_Loss 16  ---  0.6268467839025117\n",
      "Validation_accuracy 16  ---  0.3441666666666667\n",
      "Training_Loss 17  ---  0.40932202587778777\n",
      "Training_accuracy 17  ---  0.46314814814814814\n",
      "validation_Loss 17  ---  0.6157714747499571\n",
      "Validation_accuracy 17  ---  0.3486666666666667\n",
      "Training_Loss 18  ---  0.39925209592801864\n",
      "Training_accuracy 18  ---  0.4822222222222222\n",
      "validation_Loss 18  ---  0.5987827851955053\n",
      "Validation_accuracy 18  ---  0.36916666666666664\n",
      "Training_Loss 19  ---  0.38797204451650785\n",
      "Training_accuracy 19  ---  0.4838703703703704\n",
      "validation_Loss 19  ---  0.5893652855992827\n",
      "Validation_accuracy 19  ---  0.3655\n",
      "Training_Loss 20  ---  0.37971680548089504\n",
      "Training_accuracy 20  ---  0.5007407407407407\n",
      "validation_Loss 20  ---  0.5743497749928477\n",
      "Validation_accuracy 20  ---  0.38316666666666666\n",
      "Training_Loss 21  ---  0.3704527889206993\n",
      "Training_accuracy 21  ---  0.502462962962963\n",
      "validation_Loss 21  ---  0.5625579087824716\n",
      "Validation_accuracy 21  ---  0.3875\n",
      "Training_Loss 22  ---  0.3634564318912931\n",
      "Training_accuracy 22  ---  0.5153518518518518\n",
      "validation_Loss 22  ---  0.5511495485991401\n",
      "Validation_accuracy 22  ---  0.4051666666666667\n",
      "Training_Loss 23  ---  0.3557621282190997\n",
      "Training_accuracy 23  ---  0.518074074074074\n",
      "validation_Loss 23  ---  0.5412490404929315\n",
      "Validation_accuracy 23  ---  0.4053333333333333\n",
      "Training_Loss 24  ---  0.34968417439112665\n",
      "Training_accuracy 24  ---  0.528074074074074\n",
      "validation_Loss 24  ---  0.5322725192877371\n",
      "Validation_accuracy 24  ---  0.41433333333333333\n",
      "Training_Loss 25  ---  0.34319261043479815\n",
      "Training_accuracy 25  ---  0.531425925925926\n",
      "validation_Loss 25  ---  0.5240614663754926\n",
      "Validation_accuracy 25  ---  0.41533333333333333\n",
      "Training_Loss 26  ---  0.3378198211941174\n",
      "Training_accuracy 26  ---  0.5395555555555556\n",
      "validation_Loss 26  ---  0.5170380157443643\n",
      "Validation_accuracy 26  ---  0.4215\n",
      "Training_Loss 27  ---  0.3322408582098935\n",
      "Training_accuracy 27  ---  0.5428333333333333\n",
      "validation_Loss 27  ---  0.5110451298133699\n",
      "Validation_accuracy 27  ---  0.42333333333333334\n",
      "Training_Loss 28  ---  0.32743227512078804\n",
      "Training_accuracy 28  ---  0.5488518518518518\n",
      "validation_Loss 28  ---  0.5034213455194173\n",
      "Validation_accuracy 28  ---  0.43483333333333335\n",
      "Training_Loss 29  ---  0.3225498714941017\n",
      "Training_accuracy 29  ---  0.553\n",
      "validation_Loss 29  ---  0.4976600495972702\n",
      "Validation_accuracy 29  ---  0.4395\n",
      "Training_Loss 30  ---  0.3182031448396944\n",
      "Training_accuracy 30  ---  0.5576851851851852\n",
      "validation_Loss 30  ---  0.49108064062097145\n",
      "Validation_accuracy 30  ---  0.44266666666666665\n",
      "Training_Loss 31  ---  0.3138628485942008\n",
      "Training_accuracy 31  ---  0.5615740740740741\n",
      "validation_Loss 31  ---  0.48654963753921715\n",
      "Validation_accuracy 31  ---  0.445\n",
      "Training_Loss 32  ---  0.3099004071887979\n",
      "Training_accuracy 32  ---  0.5659444444444445\n",
      "validation_Loss 32  ---  0.48150455279377913\n",
      "Validation_accuracy 32  ---  0.453\n",
      "Training_Loss 33  ---  0.3059909862649189\n",
      "Training_accuracy 33  ---  0.5696111111111111\n",
      "validation_Loss 33  ---  0.4773744806336486\n",
      "Validation_accuracy 33  ---  0.45416666666666666\n",
      "Training_Loss 34  ---  0.3023538358883224\n",
      "Training_accuracy 34  ---  0.5736296296296296\n",
      "validation_Loss 34  ---  0.47218562832264516\n",
      "Validation_accuracy 34  ---  0.4603333333333333\n",
      "Training_Loss 35  ---  0.2987941174144411\n",
      "Training_accuracy 35  ---  0.576962962962963\n",
      "validation_Loss 35  ---  0.46904847248067283\n",
      "Validation_accuracy 35  ---  0.4656666666666667\n",
      "Training_Loss 36  ---  0.2954367340262516\n",
      "Training_accuracy 36  ---  0.5803888888888888\n",
      "validation_Loss 36  ---  0.46386307642926355\n",
      "Validation_accuracy 36  ---  0.4703333333333333\n",
      "Training_Loss 37  ---  0.29216796252335875\n",
      "Training_accuracy 37  ---  0.583925925925926\n",
      "validation_Loss 37  ---  0.459661328123186\n",
      "Validation_accuracy 37  ---  0.4706666666666667\n",
      "Training_Loss 38  ---  0.2890557791177078\n",
      "Training_accuracy 38  ---  0.5875555555555556\n",
      "validation_Loss 38  ---  0.4549686869324568\n",
      "Validation_accuracy 38  ---  0.47833333333333333\n",
      "Training_Loss 39  ---  0.28603601262554007\n",
      "Training_accuracy 39  ---  0.5903888888888889\n",
      "validation_Loss 39  ---  0.45022631846024685\n",
      "Validation_accuracy 39  ---  0.48283333333333334\n",
      "Training_Loss 40  ---  0.28314269706037665\n",
      "Training_accuracy 40  ---  0.593925925925926\n",
      "validation_Loss 40  ---  0.44569329762184656\n",
      "Validation_accuracy 40  ---  0.4851666666666667\n",
      "Training_Loss 41  ---  0.2803403586634864\n",
      "Training_accuracy 41  ---  0.596462962962963\n",
      "validation_Loss 41  ---  0.4421307712223827\n",
      "Validation_accuracy 41  ---  0.49116666666666664\n",
      "Training_Loss 42  ---  0.27764376135346147\n",
      "Training_accuracy 42  ---  0.5998888888888889\n",
      "validation_Loss 42  ---  0.43760432393050125\n",
      "Validation_accuracy 42  ---  0.4955\n",
      "Training_Loss 43  ---  0.2750334798887318\n",
      "Training_accuracy 43  ---  0.6022592592592593\n",
      "validation_Loss 43  ---  0.43353872164070995\n",
      "Validation_accuracy 43  ---  0.49616666666666664\n",
      "Training_Loss 44  ---  0.272514363807199\n",
      "Training_accuracy 44  ---  0.6047407407407407\n",
      "validation_Loss 44  ---  0.42942040911363627\n",
      "Validation_accuracy 44  ---  0.5045\n",
      "Training_Loss 45  ---  0.2700751698879162\n",
      "Training_accuracy 45  ---  0.6072592592592593\n",
      "validation_Loss 45  ---  0.42757092745217706\n",
      "Validation_accuracy 45  ---  0.5066666666666667\n",
      "Training_Loss 46  ---  0.2677156027938949\n",
      "Training_accuracy 46  ---  0.6091111111111112\n",
      "validation_Loss 46  ---  0.4237938593131249\n",
      "Validation_accuracy 46  ---  0.5051666666666667\n",
      "Training_Loss 47  ---  0.2654282880329609\n",
      "Training_accuracy 47  ---  0.6114444444444445\n"
     ]
    },
    {
     "name": "stdout",
     "output_type": "stream",
     "text": [
      "validation_Loss 47  ---  0.42134274477326233\n",
      "Validation_accuracy 47  ---  0.5083333333333333\n",
      "Training_Loss 48  ---  0.26321079399041153\n",
      "Training_accuracy 48  ---  0.6139074074074075\n",
      "validation_Loss 48  ---  0.4185562725359036\n",
      "Validation_accuracy 48  ---  0.509\n",
      "Training_Loss 49  ---  0.26105787290369625\n",
      "Training_accuracy 49  ---  0.6158518518518519\n",
      "validation_Loss 49  ---  0.4140252227903284\n",
      "Validation_accuracy 49  ---  0.5111666666666667\n",
      "Training_Loss 50  ---  0.25896646492052283\n",
      "Training_accuracy 50  ---  0.6178703703703704\n",
      "validation_Loss 50  ---  0.4112315445010294\n",
      "Validation_accuracy 50  ---  0.5133333333333333\n"
     ]
    }
   ],
   "source": [
    "training_loss = []\n",
    "validation_loss = []\n",
    "\n",
    "training_accuracy = []\n",
    "validation_accuracy =[]\n",
    "\n",
    "W1,b1,W2,b2 = model(X_train, y_train, input_nodes, hidden_nodes, output_nodes, epochs, learning_rate)"
   ]
  },
  {
   "cell_type": "markdown",
   "metadata": {},
   "source": [
    "### Testing the model "
   ]
  },
  {
   "cell_type": "code",
   "execution_count": 49,
   "metadata": {},
   "outputs": [
    {
     "name": "stdout",
     "output_type": "stream",
     "text": [
      "0.26559970289684354\n",
      "\n",
      "\n",
      "test accuracy: 0.6105\n",
      "\n",
      "Confusion matrix\n",
      "[[595  31  34  93  27   6 180   3  29   2]\n",
      " [ 30 851  14  64  16   4  15   0   6   0]\n",
      " [ 38  11 494  19 209  11 189   1  24   4]\n",
      " [103  79  33 630  84   5  46   0  16   4]\n",
      " [ 25  17 195  69 479   3 174   1  37   0]\n",
      " [  8  10  20  18  14 481   3 185  92 169]\n",
      " [162  17 179  58 184   6 357   2  35   0]\n",
      " [  0   0   3   2   4 159   0 695  36 101]\n",
      " [ 35   4  17  12  27  74  40  44 733  14]\n",
      " [  1   0  12   0   1  96   7  75  18 790]]\n",
      "\n",
      "Report\n",
      "             precision    recall  f1-score   support\n",
      "\n",
      "          0       0.60      0.59      0.60      1000\n",
      "          1       0.83      0.85      0.84      1000\n",
      "          2       0.49      0.49      0.49      1000\n",
      "          3       0.65      0.63      0.64      1000\n",
      "          4       0.46      0.48      0.47      1000\n",
      "          5       0.57      0.48      0.52      1000\n",
      "          6       0.35      0.36      0.36      1000\n",
      "          7       0.69      0.69      0.69      1000\n",
      "          8       0.71      0.73      0.72      1000\n",
      "          9       0.73      0.79      0.76      1000\n",
      "\n",
      "avg / total       0.61      0.61      0.61     10000\n",
      "\n"
     ]
    }
   ],
   "source": [
    "Z1_test = np.dot(W1, X_test.T) + b1\n",
    "A1_test = sigmoid(Z1_test)\n",
    "Z2_test = np.dot(W2, A1_test) + b2\n",
    "A2_test = softmax(Z2_test)\n",
    "test_cost = calculate_cost(A2_test, y_test.T)\n",
    "\n",
    "print(test_cost)\n",
    "print(\"\\n\")\n",
    "y_test_labels = np.argmax(A2_test.T, axis=1)\n",
    "test_accuracy = metrics.accuracy_score(Y_test, y_test_labels)\n",
    "print(\"test accuracy:\",test_accuracy)\n",
    "print(\"\\nConfusion matrix\")\n",
    "confusion_matrix = metrics.confusion_matrix(Y_test, y_test_labels)\n",
    "print(confusion_matrix)\n",
    "print(\"\\nReport\")\n",
    "report = metrics.classification_report(Y_test, y_test_labels, target_names=None)\n",
    "print(report)   \n"
   ]
  },
  {
   "cell_type": "code",
   "execution_count": 50,
   "metadata": {},
   "outputs": [
    {
     "data": {
      "text/plain": [
       "<matplotlib.legend.Legend at 0x11b81074e48>"
      ]
     },
     "execution_count": 50,
     "metadata": {},
     "output_type": "execute_result"
    },
    {
     "data": {
      "image/png": "[encoded data removed]",
      "text/plain": [
       "<Figure size 432x288 with 1 Axes>"
      ]
     },
     "metadata": {},
     "output_type": "display_data"
    }
   ],
   "source": [
    "plt.plot(training_loss, label = 'Training_Loss')\n",
    "plt.plot(validation_loss, label = 'Validation_Loss')\n",
    "plt.ylabel('Loss')\n",
    "plt.xlabel('Epochs')\n",
    "plt.title(\"Loss VS Epochs\")\n",
    "plt.legend()\n"
   ]
  },
  {
   "cell_type": "code",
   "execution_count": 51,
   "metadata": {
    "scrolled": true
   },
   "outputs": [
    {
     "data": {
      "text/plain": [
       "<matplotlib.legend.Legend at 0x11b810dfe48>"
      ]
     },
     "execution_count": 51,
     "metadata": {},
     "output_type": "execute_result"
    },
    {
     "data": {
      "image/png": "[encoded data removed]",
      "text/plain": [
       "<Figure size 432x288 with 1 Axes>"
      ]
     },
     "metadata": {},
     "output_type": "display_data"
    }
   ],
   "source": [
    "#print(y_test[2])\n",
    "plt.plot(training_accuracy, label = 'Training_acc')\n",
    "plt.plot(validation_accuracy, label = 'Validation_acc')\n",
    "plt.ylabel('Accuracy')\n",
    "plt.xlabel('Epochs')\n",
    "plt.title(\"Accuracy VS Epochs\")\n",
    "plt.legend()"
   ]
  },
  {
   "cell_type": "markdown",
   "metadata": {},
   "source": [
    "## Task 2"
   ]
  },
  {
   "cell_type": "code",
   "execution_count": 11,
   "metadata": {},
   "outputs": [],
   "source": [
    "X_train, y_train = util_mnist_reader.load_mnist('../data/fashion', kind='train')\n",
    "X_test, y_test = util_mnist_reader.load_mnist('../data/fashion', kind='t10k')"
   ]
  },
  {
   "cell_type": "markdown",
   "metadata": {},
   "source": [
    "### Normalising the data"
   ]
  },
  {
   "cell_type": "code",
   "execution_count": 12,
   "metadata": {},
   "outputs": [
    {
     "name": "stdout",
     "output_type": "stream",
     "text": [
      "(60000, 784)\n",
      "(60000,)\n"
     ]
    }
   ],
   "source": [
    "print(X_train.shape)\n",
    "print(y_train.shape)\n",
    "\n",
    "X_train = X_train/255.0\n",
    "X_test = X_test/255.0"
   ]
  },
  {
   "cell_type": "markdown",
   "metadata": {},
   "source": [
    "### Architecture of the model"
   ]
  },
  {
   "cell_type": "code",
   "execution_count": 13,
   "metadata": {},
   "outputs": [
    {
     "name": "stdout",
     "output_type": "stream",
     "text": [
      "_________________________________________________________________\n",
      "Layer (type)                 Output Shape              Param #   \n",
      "=================================================================\n",
      "flatten (Flatten)            (None, 784)               0         \n",
      "_________________________________________________________________\n",
      "dense (Dense)                (None, 300)               235500    \n",
      "_________________________________________________________________\n",
      "dense_1 (Dense)              (None, 100)               30100     \n",
      "_________________________________________________________________\n",
      "dense_2 (Dense)              (None, 50)                5050      \n",
      "_________________________________________________________________\n",
      "dense_3 (Dense)              (None, 10)                510       \n",
      "=================================================================\n",
      "Total params: 271,160\n",
      "Trainable params: 271,160\n",
      "Non-trainable params: 0\n",
      "_________________________________________________________________\n"
     ]
    }
   ],
   "source": [
    "model = keras.Sequential([\n",
    "    keras.layers.Flatten(input_shape = (784,)),\n",
    "    keras.layers.Dense(300, activation = 'sigmoid'),\n",
    "    keras.layers.Dense(100, activation = 'sigmoid'),\n",
    "    keras.layers.Dense(50,activation = 'sigmoid'),\n",
    "    keras.layers.Dense(10, activation = 'softmax') \n",
    "])\n",
    "model.summary()"
   ]
  },
  {
   "cell_type": "code",
   "execution_count": 14,
   "metadata": {},
   "outputs": [],
   "source": [
    "model.compile(optimizer = keras.optimizers.SGD(lr = 0.01),\n",
    "             loss = 'sparse_categorical_crossentropy',\n",
    "             metrics = ['accuracy'])"
   ]
  },
  {
   "cell_type": "code",
   "execution_count": 15,
   "metadata": {},
   "outputs": [
    {
     "name": "stdout",
     "output_type": "stream",
     "text": [
      "Train on 54000 samples, validate on 6000 samples\n",
      "Epoch 1/20\n",
      "54000/54000 [==============================] - 4s 74us/step - loss: 2.2885 - acc: 0.1590 - val_loss: 2.2671 - val_acc: 0.2148\n",
      "Epoch 2/20\n",
      "54000/54000 [==============================] - 4s 67us/step - loss: 2.2122 - acc: 0.3213 - val_loss: 2.1110 - val_acc: 0.2937\n",
      "Epoch 3/20\n",
      "54000/54000 [==============================] - 4s 67us/step - loss: 1.8770 - acc: 0.4022 - val_loss: 1.6671 - val_acc: 0.5137\n",
      "Epoch 4/20\n",
      "54000/54000 [==============================] - 4s 66us/step - loss: 1.5116 - acc: 0.5399 - val_loss: 1.3536 - val_acc: 0.5770\n",
      "Epoch 5/20\n",
      "54000/54000 [==============================] - 4s 67us/step - loss: 1.2431 - acc: 0.5917 - val_loss: 1.1428 - val_acc: 0.6105\n",
      "Epoch 6/20\n",
      "54000/54000 [==============================] - 4s 67us/step - loss: 1.0883 - acc: 0.6104 - val_loss: 1.0239 - val_acc: 0.6302\n",
      "Epoch 7/20\n",
      "54000/54000 [==============================] - 4s 67us/step - loss: 0.9902 - acc: 0.6313 - val_loss: 0.9384 - val_acc: 0.6460\n",
      "Epoch 8/20\n",
      "54000/54000 [==============================] - 4s 67us/step - loss: 0.9168 - acc: 0.6567 - val_loss: 0.8744 - val_acc: 0.6853\n",
      "Epoch 9/20\n",
      "54000/54000 [==============================] - 4s 67us/step - loss: 0.8578 - acc: 0.6848 - val_loss: 0.8219 - val_acc: 0.7087\n",
      "Epoch 10/20\n",
      "54000/54000 [==============================] - 4s 67us/step - loss: 0.8075 - acc: 0.7094 - val_loss: 0.7751 - val_acc: 0.7252\n",
      "Epoch 11/20\n",
      "54000/54000 [==============================] - 4s 67us/step - loss: 0.7632 - acc: 0.7244 - val_loss: 0.7334 - val_acc: 0.7375\n",
      "Epoch 12/20\n",
      "54000/54000 [==============================] - 4s 67us/step - loss: 0.7251 - acc: 0.7329 - val_loss: 0.6994 - val_acc: 0.7410\n",
      "Epoch 13/20\n",
      "54000/54000 [==============================] - 4s 67us/step - loss: 0.6942 - acc: 0.7407 - val_loss: 0.6738 - val_acc: 0.7493\n",
      "Epoch 14/20\n",
      "54000/54000 [==============================] - 4s 67us/step - loss: 0.6698 - acc: 0.7476 - val_loss: 0.6513 - val_acc: 0.7565\n",
      "Epoch 15/20\n",
      "54000/54000 [==============================] - 4s 70us/step - loss: 0.6495 - acc: 0.7532 - val_loss: 0.6351 - val_acc: 0.7632\n",
      "Epoch 16/20\n",
      "54000/54000 [==============================] - 4s 67us/step - loss: 0.6325 - acc: 0.7607 - val_loss: 0.6181 - val_acc: 0.7668\n",
      "Epoch 17/20\n",
      "54000/54000 [==============================] - 4s 67us/step - loss: 0.6173 - acc: 0.7673 - val_loss: 0.6045 - val_acc: 0.7757\n",
      "Epoch 18/20\n",
      "54000/54000 [==============================] - 4s 67us/step - loss: 0.6036 - acc: 0.7733 - val_loss: 0.5924 - val_acc: 0.7810\n",
      "Epoch 19/20\n",
      "54000/54000 [==============================] - 4s 67us/step - loss: 0.5911 - acc: 0.7807 - val_loss: 0.5809 - val_acc: 0.7845\n",
      "Epoch 20/20\n",
      "54000/54000 [==============================] - 4s 69us/step - loss: 0.5793 - acc: 0.7894 - val_loss: 0.5693 - val_acc: 0.7890\n"
     ]
    }
   ],
   "source": [
    "history = model.fit(X_train, y_train, epochs = 20, validation_split = 0.1)"
   ]
  },
  {
   "cell_type": "code",
   "execution_count": 16,
   "metadata": {},
   "outputs": [
    {
     "data": {
      "image/png": "[encoded data removed]",
      "text/plain": [
       "<Figure size 432x288 with 1 Axes>"
      ]
     },
     "metadata": {},
     "output_type": "display_data"
    },
    {
     "data": {
      "image/png": "[encoded data removed]",
      "text/plain": [
       "<Figure size 432x288 with 1 Axes>"
      ]
     },
     "metadata": {},
     "output_type": "display_data"
    }
   ],
   "source": [
    "plt.plot(history.history['loss'],'g')\n",
    "plt.plot(history.history['val_loss'],'r')\n",
    "# plt.plot(history.history['val_loss'])\n",
    "plt.title('Model loss')\n",
    "plt.ylabel('Loss')\n",
    "plt.xlabel('Epoch')\n",
    "plt.legend(['Train','Validation'], loc='upper left')\n",
    "plt.show()\n",
    "\n",
    "plt.plot(history.history['acc'],'g')\n",
    "plt.plot(history.history['val_acc'],'r')\n",
    "plt.title('Model accuracy')\n",
    "plt.ylabel('Accuracy')\n",
    "plt.xlabel('Epoch')\n",
    "plt.legend(['Train','Validatoin'], loc='upper left')\n",
    "plt.show()"
   ]
  },
  {
   "cell_type": "code",
   "execution_count": 17,
   "metadata": {},
   "outputs": [
    {
     "name": "stdout",
     "output_type": "stream",
     "text": [
      "10000/10000 [==============================] - 0s 29us/step\n"
     ]
    }
   ],
   "source": [
    "score = model.evaluate(X_test,y_test)"
   ]
  },
  {
   "cell_type": "code",
   "execution_count": 18,
   "metadata": {},
   "outputs": [
    {
     "name": "stdout",
     "output_type": "stream",
     "text": [
      "\n",
      " Test accuracy: 0.7809\n"
     ]
    }
   ],
   "source": [
    "print('\\n', 'Test accuracy:',score[1])"
   ]
  },
  {
   "cell_type": "code",
   "execution_count": 19,
   "metadata": {},
   "outputs": [
    {
     "data": {
      "text/plain": [
       "array([4.5644441e-07, 1.5917125e-04, 3.2329012e-06, 4.3971293e-05,\n",
       "       1.9901976e-04, 1.3571414e-01, 7.1513114e-06, 3.0239728e-01,\n",
       "       2.9801310e-03, 5.5849546e-01], dtype=float32)"
      ]
     },
     "execution_count": 19,
     "metadata": {},
     "output_type": "execute_result"
    }
   ],
   "source": [
    "predictions = model.predict(X_test)\n",
    "predictions[0]"
   ]
  },
  {
   "cell_type": "code",
   "execution_count": 20,
   "metadata": {},
   "outputs": [
    {
     "data": {
      "text/plain": [
       "9"
      ]
     },
     "execution_count": 20,
     "metadata": {},
     "output_type": "execute_result"
    }
   ],
   "source": [
    "np.argmax(predictions[0])"
   ]
  },
  {
   "cell_type": "code",
   "execution_count": 21,
   "metadata": {},
   "outputs": [
    {
     "data": {
      "text/plain": [
       "9"
      ]
     },
     "execution_count": 21,
     "metadata": {},
     "output_type": "execute_result"
    }
   ],
   "source": [
    "y_test[0]"
   ]
  },
  {
   "cell_type": "markdown",
   "metadata": {},
   "source": [
    "### Confusion Matrix"
   ]
  },
  {
   "cell_type": "code",
   "execution_count": 22,
   "metadata": {},
   "outputs": [
    {
     "name": "stdout",
     "output_type": "stream",
     "text": [
      "[[801   3  11  87   5   6  73   0  14   0]\n",
      " [  2 938  15  34   6   1   2   0   2   0]\n",
      " [ 20   3 664  12 176   0 117   0   8   0]\n",
      " [ 66  13   7 823  34   2  50   0   4   1]\n",
      " [  0   2 188  35 728   0  40   0   7   0]\n",
      " [  0   1   0   0   0 887   0  67   8  37]\n",
      " [241   4 236  56 174   2 263   0  24   0]\n",
      " [  0   0   0   0   0  69   0 860   0  71]\n",
      " [  1   1   6   9   3  19  35   3 922   1]\n",
      " [  0   0   0   0   0  23   0  53   1 923]]\n"
     ]
    }
   ],
   "source": [
    "y_pred_labels = np.argmax(predictions, axis=1)\n",
    "confusionmatrix = metrics.confusion_matrix(y_true=y_test, y_pred=y_pred_labels)\n",
    "print(confusionmatrix)"
   ]
  },
  {
   "cell_type": "markdown",
   "metadata": {},
   "source": [
    "### Report of the model"
   ]
  },
  {
   "cell_type": "code",
   "execution_count": 23,
   "metadata": {},
   "outputs": [
    {
     "name": "stdout",
     "output_type": "stream",
     "text": [
      "             precision    recall  f1-score   support\n",
      "\n",
      "          0       0.71      0.80      0.75      1000\n",
      "          1       0.97      0.94      0.95      1000\n",
      "          2       0.59      0.66      0.62      1000\n",
      "          3       0.78      0.82      0.80      1000\n",
      "          4       0.65      0.73      0.68      1000\n",
      "          5       0.88      0.89      0.88      1000\n",
      "          6       0.45      0.26      0.33      1000\n",
      "          7       0.87      0.86      0.87      1000\n",
      "          8       0.93      0.92      0.93      1000\n",
      "          9       0.89      0.92      0.91      1000\n",
      "\n",
      "avg / total       0.77      0.78      0.77     10000\n",
      "\n"
     ]
    }
   ],
   "source": [
    "report = metrics.classification_report(y_test, y_pred_labels, target_names=None)\n",
    "print(report)   "
   ]
  },
  {
   "cell_type": "markdown",
   "metadata": {},
   "source": [
    "## Task3"
   ]
  },
  {
   "cell_type": "code",
   "execution_count": 24,
   "metadata": {},
   "outputs": [],
   "source": [
    "X_train = X_train.reshape(X_train.shape[0], 28, 28, 1)\n",
    "X_test = X_test.reshape(X_test.shape[0], 28, 28, 1)"
   ]
  },
  {
   "cell_type": "markdown",
   "metadata": {},
   "source": [
    "### One hot encoding"
   ]
  },
  {
   "cell_type": "code",
   "execution_count": 25,
   "metadata": {},
   "outputs": [],
   "source": [
    "def conv_vector(y):\n",
    "    vect = np.zeros((y.shape[0],10))\n",
    "    for index in range(y.shape[0]):\n",
    "        vect[index][y[index]] = 1\n",
    "    return vect"
   ]
  },
  {
   "cell_type": "code",
   "execution_count": 26,
   "metadata": {},
   "outputs": [],
   "source": [
    "Y_train = conv_vector(y_train)\n",
    "Y_test = conv_vector(y_test)"
   ]
  },
  {
   "cell_type": "markdown",
   "metadata": {},
   "source": [
    "### architecture of the model"
   ]
  },
  {
   "cell_type": "code",
   "execution_count": 27,
   "metadata": {},
   "outputs": [
    {
     "name": "stdout",
     "output_type": "stream",
     "text": [
      "_________________________________________________________________\n",
      "Layer (type)                 Output Shape              Param #   \n",
      "=================================================================\n",
      "conv2d (Conv2D)              (None, 28, 28, 64)        320       \n",
      "_________________________________________________________________\n",
      "max_pooling2d (MaxPooling2D) (None, 14, 14, 64)        0         \n",
      "_________________________________________________________________\n",
      "dropout (Dropout)            (None, 14, 14, 64)        0         \n",
      "_________________________________________________________________\n",
      "conv2d_1 (Conv2D)            (None, 14, 14, 32)        8224      \n",
      "_________________________________________________________________\n",
      "max_pooling2d_1 (MaxPooling2 (None, 7, 7, 32)          0         \n",
      "_________________________________________________________________\n",
      "dropout_1 (Dropout)          (None, 7, 7, 32)          0         \n",
      "_________________________________________________________________\n",
      "flatten_1 (Flatten)          (None, 1568)              0         \n",
      "_________________________________________________________________\n",
      "dense_4 (Dense)              (None, 256)               401664    \n",
      "_________________________________________________________________\n",
      "dropout_2 (Dropout)          (None, 256)               0         \n",
      "_________________________________________________________________\n",
      "dense_5 (Dense)              (None, 10)                2570      \n",
      "=================================================================\n",
      "Total params: 412,778\n",
      "Trainable params: 412,778\n",
      "Non-trainable params: 0\n",
      "_________________________________________________________________\n"
     ]
    }
   ],
   "source": [
    "model = tf.keras.Sequential()# Must define the input shape in the first layer of the neural network\n",
    "model.add(tf.keras.layers.Conv2D(filters=64, kernel_size=2, padding='same', activation='relu', input_shape =(28,28,1))) \n",
    "model.add(tf.keras.layers.MaxPooling2D(pool_size=2))\n",
    "model.add(tf.keras.layers.Dropout(0.3))\n",
    "model.add(tf.keras.layers.Conv2D(filters=32, kernel_size=2, padding='same', activation='relu'))\n",
    "model.add(tf.keras.layers.MaxPooling2D(pool_size=2))\n",
    "model.add(tf.keras.layers.Dropout(0.3))\n",
    "model.add(tf.keras.layers.Flatten())\n",
    "# model.add(tf.keras.layers.Dense(784, activation='sigmoid'))\n",
    "# model.add(tf.keras.layers.Dropout(0.5))\n",
    "model.add(tf.keras.layers.Dense(256, activation='relu'))\n",
    "model.add(tf.keras.layers.Dropout(0.5))\n",
    "model.add(tf.keras.layers.Dense(10, activation='softmax'))# Take a look at the model summary\n",
    "model.summary()\n"
   ]
  },
  {
   "cell_type": "code",
   "execution_count": 28,
   "metadata": {},
   "outputs": [],
   "source": [
    "model.compile(loss='categorical_crossentropy',\n",
    "             optimizer = keras.optimizers.Adam(lr = 0.001),\n",
    "             metrics=['accuracy'])"
   ]
  },
  {
   "cell_type": "code",
   "execution_count": 29,
   "metadata": {},
   "outputs": [
    {
     "name": "stdout",
     "output_type": "stream",
     "text": [
      "Train on 54000 samples, validate on 6000 samples\n",
      "Epoch 1/20\n",
      "54000/54000 [==============================] - 58s 1ms/step - loss: 0.6103 - acc: 0.7744 - val_loss: 0.3880 - val_acc: 0.8557\n",
      "Epoch 2/20\n",
      "54000/54000 [==============================] - 57s 1ms/step - loss: 0.4211 - acc: 0.8467 - val_loss: 0.3433 - val_acc: 0.8730\n",
      "Epoch 3/20\n",
      "54000/54000 [==============================] - 57s 1ms/step - loss: 0.3754 - acc: 0.8642 - val_loss: 0.3107 - val_acc: 0.8853\n",
      "Epoch 4/20\n",
      "54000/54000 [==============================] - 55s 1ms/step - loss: 0.3471 - acc: 0.8743 - val_loss: 0.2868 - val_acc: 0.8948\n",
      "Epoch 5/20\n",
      "54000/54000 [==============================] - 56s 1ms/step - loss: 0.3275 - acc: 0.8794 - val_loss: 0.2740 - val_acc: 0.9018\n",
      "Epoch 6/20\n",
      "54000/54000 [==============================] - 59s 1ms/step - loss: 0.3093 - acc: 0.8854 - val_loss: 0.2573 - val_acc: 0.9045\n",
      "Epoch 7/20\n",
      "54000/54000 [==============================] - 59s 1ms/step - loss: 0.2967 - acc: 0.8909 - val_loss: 0.2509 - val_acc: 0.9055\n",
      "Epoch 8/20\n",
      "54000/54000 [==============================] - 58s 1ms/step - loss: 0.2892 - acc: 0.8938 - val_loss: 0.2592 - val_acc: 0.9025\n",
      "Epoch 9/20\n",
      "54000/54000 [==============================] - 57s 1ms/step - loss: 0.2763 - acc: 0.8971 - val_loss: 0.2412 - val_acc: 0.9108\n",
      "Epoch 10/20\n",
      "54000/54000 [==============================] - 58s 1ms/step - loss: 0.2707 - acc: 0.8998 - val_loss: 0.2436 - val_acc: 0.9082\n",
      "Epoch 11/20\n",
      "54000/54000 [==============================] - 57s 1ms/step - loss: 0.2603 - acc: 0.9042 - val_loss: 0.2382 - val_acc: 0.9117\n",
      "Epoch 12/20\n",
      "54000/54000 [==============================] - 57s 1ms/step - loss: 0.2538 - acc: 0.9064 - val_loss: 0.2289 - val_acc: 0.9142\n",
      "Epoch 13/20\n",
      "54000/54000 [==============================] - 57s 1ms/step - loss: 0.2474 - acc: 0.9094 - val_loss: 0.2252 - val_acc: 0.9157\n",
      "Epoch 14/20\n",
      "54000/54000 [==============================] - 57s 1ms/step - loss: 0.2420 - acc: 0.9105 - val_loss: 0.2170 - val_acc: 0.9175\n",
      "Epoch 15/20\n",
      "54000/54000 [==============================] - 57s 1ms/step - loss: 0.2403 - acc: 0.9111 - val_loss: 0.2184 - val_acc: 0.9175\n",
      "Epoch 16/20\n",
      "54000/54000 [==============================] - 57s 1ms/step - loss: 0.2351 - acc: 0.9133 - val_loss: 0.2198 - val_acc: 0.9203\n",
      "Epoch 17/20\n",
      "54000/54000 [==============================] - 58s 1ms/step - loss: 0.2335 - acc: 0.9123 - val_loss: 0.2137 - val_acc: 0.9212\n",
      "Epoch 18/20\n",
      "54000/54000 [==============================] - 57s 1ms/step - loss: 0.2303 - acc: 0.9145 - val_loss: 0.2142 - val_acc: 0.9212\n",
      "Epoch 19/20\n",
      "54000/54000 [==============================] - 57s 1ms/step - loss: 0.2237 - acc: 0.9167 - val_loss: 0.2129 - val_acc: 0.9208\n",
      "Epoch 20/20\n",
      "54000/54000 [==============================] - 58s 1ms/step - loss: 0.2255 - acc: 0.9154 - val_loss: 0.2093 - val_acc: 0.9222\n"
     ]
    }
   ],
   "source": [
    "history = model.fit(X_train,\n",
    "         Y_train,\n",
    "         batch_size=64,\n",
    "         epochs=20,\n",
    "         validation_split = 0.1\n",
    "         )"
   ]
  },
  {
   "cell_type": "code",
   "execution_count": 30,
   "metadata": {},
   "outputs": [
    {
     "data": {
      "image/png": "[encoded data removed]",
      "text/plain": [
       "<Figure size 432x288 with 1 Axes>"
      ]
     },
     "metadata": {},
     "output_type": "display_data"
    },
    {
     "data": {
      "image/png": "[encoded data removed]",
      "text/plain": [
       "<Figure size 432x288 with 1 Axes>"
      ]
     },
     "metadata": {},
     "output_type": "display_data"
    }
   ],
   "source": [
    "plt.plot(history.history['loss'],'g')\n",
    "plt.plot(history.history['val_loss'],'r')\n",
    "plt.title('Model loss')\n",
    "plt.ylabel('Loss')\n",
    "plt.xlabel('Epoch')\n",
    "plt.legend(['Train','Validation'], loc='upper left')\n",
    "plt.show()\n",
    "\n",
    "plt.plot(history.history['acc'])\n",
    "plt.plot(history.history['val_acc'],'r')\n",
    "plt.title('Model accuracy')\n",
    "plt.ylabel('Accuracy')\n",
    "plt.xlabel('Epoch')\n",
    "plt.legend(['Train','Validation'], loc='upper left')\n",
    "plt.show()"
   ]
  },
  {
   "cell_type": "code",
   "execution_count": 31,
   "metadata": {},
   "outputs": [
    {
     "name": "stdout",
     "output_type": "stream",
     "text": [
      "10000/10000 [==============================] - 3s 265us/step\n",
      "\n",
      " Test accuracy:\n",
      " 0.9196\n"
     ]
    }
   ],
   "source": [
    "score = model.evaluate(X_test,Y_test)\n",
    "print(\"\\n\",'Test accuracy:\\n',score[1])"
   ]
  },
  {
   "cell_type": "code",
   "execution_count": 32,
   "metadata": {},
   "outputs": [],
   "source": [
    "prediction = model.predict(X_test)"
   ]
  },
  {
   "cell_type": "code",
   "execution_count": 33,
   "metadata": {},
   "outputs": [
    {
     "data": {
      "text/plain": [
       "9"
      ]
     },
     "execution_count": 33,
     "metadata": {},
     "output_type": "execute_result"
    }
   ],
   "source": [
    "np.argmax(prediction[0])"
   ]
  },
  {
   "cell_type": "markdown",
   "metadata": {},
   "source": [
    "### Confusion Matrix"
   ]
  },
  {
   "cell_type": "code",
   "execution_count": 34,
   "metadata": {},
   "outputs": [
    {
     "name": "stdout",
     "output_type": "stream",
     "text": [
      "[[899   0  14  15   2   1  65   0   4   0]\n",
      " [  0 982   0  14   2   0   0   0   2   0]\n",
      " [ 18   1 895  10  38   0  38   0   0   0]\n",
      " [ 10   8   7 926  25   0  22   0   2   0]\n",
      " [  0   0  52  23 882   0  43   0   0   0]\n",
      " [  0   0   0   0   0 978   0  15   0   7]\n",
      " [113   0  65  29  79   0 709   0   5   0]\n",
      " [  0   0   0   0   0   3   0 984   0  13]\n",
      " [  1   2   1   7   3   1   2   2 980   1]\n",
      " [  0   0   0   0   0   4   1  34   0 961]]\n"
     ]
    }
   ],
   "source": [
    "y_pred_labels = np.argmax(prediction, axis=1)\n",
    "confusionmatrix = metrics.confusion_matrix(y_true=y_test, y_pred=y_pred_labels)\n",
    "print(confusionmatrix)"
   ]
  },
  {
   "cell_type": "code",
   "execution_count": 35,
   "metadata": {},
   "outputs": [
    {
     "name": "stdout",
     "output_type": "stream",
     "text": [
      "             precision    recall  f1-score   support\n",
      "\n",
      "          0       0.86      0.90      0.88      1000\n",
      "          1       0.99      0.98      0.99      1000\n",
      "          2       0.87      0.90      0.88      1000\n",
      "          3       0.90      0.93      0.92      1000\n",
      "          4       0.86      0.88      0.87      1000\n",
      "          5       0.99      0.98      0.98      1000\n",
      "          6       0.81      0.71      0.75      1000\n",
      "          7       0.95      0.98      0.97      1000\n",
      "          8       0.99      0.98      0.98      1000\n",
      "          9       0.98      0.96      0.97      1000\n",
      "\n",
      "avg / total       0.92      0.92      0.92     10000\n",
      "\n"
     ]
    }
   ],
   "source": [
    "report = metrics.classification_report(y_test, y_pred_labels, target_names=None)\n",
    "print(report)   "
   ]
  }
 ],
 "metadata": {
  "kernelspec": {
   "display_name": "Python 3",
   "language": "python",
   "name": "python3"
  },
  "language_info": {
   "codemirror_mode": {
    "name": "ipython",
    "version": 3
   },
   "file_extension": ".py",
   "mimetype": "text/x-python",
   "name": "python",
   "nbconvert_exporter": "python",
   "pygments_lexer": "ipython3",
   "version": "3.6.5"
  }
 },
 "nbformat": 4,
 "nbformat_minor": 2
}
